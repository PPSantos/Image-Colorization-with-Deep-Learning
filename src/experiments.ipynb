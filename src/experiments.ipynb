{
 "cells": [
  {
   "cell_type": "code",
   "execution_count": 1,
   "metadata": {},
   "outputs": [],
   "source": [
    "import numpy as np\n",
    "import tensorflow as tf\n",
    "\n",
    "from model import Model"
   ]
  },
  {
   "cell_type": "code",
   "execution_count": 2,
   "metadata": {},
   "outputs": [],
   "source": [
    "SEED = 24"
   ]
  },
  {
   "cell_type": "markdown",
   "metadata": {},
   "source": [
    "## Data"
   ]
  },
  {
   "cell_type": "code",
   "execution_count": 3,
   "metadata": {},
   "outputs": [],
   "source": [
    "from helpers import *"
   ]
  },
  {
   "cell_type": "code",
   "execution_count": 4,
   "metadata": {},
   "outputs": [
    {
     "name": "stdout",
     "output_type": "stream",
     "text": [
      "Training data:\n",
      "(45000, 3072)\n",
      "(45000, 10)\n",
      "Validation data:\n",
      "(5000, 3072)\n",
      "(5000, 10)\n",
      "Test data:\n",
      "(10000, 3072)\n",
      "(10000, 10)\n"
     ]
    }
   ],
   "source": [
    "X_train, Y_train, X_val, Y_val, X_test, Y_test = load_CIFAR()\n",
    "\n",
    "print('Training data:')\n",
    "print(X_train.shape)\n",
    "print(Y_train.shape)\n",
    "\n",
    "print('Validation data:')\n",
    "print(X_val.shape)\n",
    "print(Y_val.shape)\n",
    "\n",
    "print('Test data:')\n",
    "print(X_test.shape)\n",
    "print(Y_test.shape)"
   ]
  },
  {
   "cell_type": "markdown",
   "metadata": {},
   "source": [
    "## Model"
   ]
  },
  {
   "cell_type": "code",
   "execution_count": 5,
   "metadata": {},
   "outputs": [],
   "source": [
    "np.random.seed(SEED)\n",
    "tf.random.set_random_seed(SEED)"
   ]
  },
  {
   "cell_type": "code",
   "execution_count": 6,
   "metadata": {},
   "outputs": [],
   "source": [
    "MLP = Model()"
   ]
  },
  {
   "cell_type": "code",
   "execution_count": 7,
   "metadata": {},
   "outputs": [
    {
     "name": "stdout",
     "output_type": "stream",
     "text": [
      "WARNING:tensorflow:From /usr/local/lib/python3.5/dist-packages/tensorflow/python/ops/resource_variable_ops.py:435: colocate_with (from tensorflow.python.framework.ops) is deprecated and will be removed in a future version.\n",
      "Instructions for updating:\n",
      "Colocations handled automatically by placer.\n"
     ]
    }
   ],
   "source": [
    "MLP.compile()"
   ]
  },
  {
   "cell_type": "code",
   "execution_count": 8,
   "metadata": {},
   "outputs": [
    {
     "name": "stdout",
     "output_type": "stream",
     "text": [
      "Epoch: 1 loss = 2.3059955620765678\n",
      "Epoch: 2 loss = 1.902458100318908\n",
      "Epoch: 3 loss = 1.732411525249481\n",
      "Epoch: 4 loss = 1.6242716479301447\n",
      "Epoch: 5 loss = 1.5476498961448668\n",
      "Epoch: 6 loss = 1.491531808376312\n",
      "Epoch: 7 loss = 1.4294539499282837\n",
      "Epoch: 8 loss = 1.3804229092597962\n",
      "Epoch: 9 loss = 1.337655849456787\n",
      "Epoch: 10 loss = 1.3026038765907286\n",
      "Epoch: 11 loss = 1.2685094428062447\n",
      "Epoch: 12 loss = 1.242011731863022\n",
      "Epoch: 13 loss = 1.2120113277435305\n",
      "Epoch: 14 loss = 1.1842016887664797\n",
      "Epoch: 15 loss = 1.1644190800189973\n",
      "Epoch: 16 loss = 1.1295210182666782\n",
      "Epoch: 17 loss = 1.1041503679752351\n",
      "Epoch: 18 loss = 1.080783598423004\n",
      "Epoch: 19 loss = 1.0605500674247743\n",
      "Epoch: 20 loss = 1.0369401741027833\n",
      "Epoch: 21 loss = 1.0164720392227171\n",
      "Epoch: 22 loss = 0.9926658940315247\n",
      "Epoch: 23 loss = 0.9742157661914826\n",
      "Epoch: 24 loss = 0.9679221677780152\n",
      "Epoch: 25 loss = 0.9529191017150879\n",
      "Epoch: 26 loss = 0.9390308678150174\n",
      "Epoch: 27 loss = 0.9296647131443022\n",
      "Epoch: 28 loss = 0.917606235742569\n",
      "Epoch: 29 loss = 0.897555443048477\n",
      "Epoch: 30 loss = 0.8867195153236388\n",
      "Epoch: 31 loss = 0.866624699831009\n",
      "Epoch: 32 loss = 0.8438088762760162\n",
      "Epoch: 33 loss = 0.8229976928234102\n",
      "Epoch: 34 loss = 0.8039700675010681\n",
      "Epoch: 35 loss = 0.7836805546283722\n",
      "Epoch: 36 loss = 0.7678363883495332\n",
      "Epoch: 37 loss = 0.7482358479499819\n",
      "Epoch: 38 loss = 0.7311305344104769\n",
      "Epoch: 39 loss = 0.7213102424144746\n",
      "Epoch: 40 loss = 0.7134313094615935\n",
      "Epoch: 41 loss = 0.7079602384567262\n",
      "Epoch: 42 loss = 0.7003044527769088\n",
      "Epoch: 43 loss = 0.697919716835022\n",
      "Epoch: 44 loss = 0.6896493703126906\n",
      "Epoch: 45 loss = 0.682815018892288\n",
      "Epoch: 46 loss = 0.6783691650629041\n",
      "Epoch: 47 loss = 0.6788025742769239\n",
      "Epoch: 48 loss = 0.6668713331222533\n",
      "Epoch: 49 loss = 0.6594342648983003\n",
      "Epoch: 50 loss = 0.6537321805953978\n",
      "Epoch: 51 loss = 0.6402688860893251\n",
      "Epoch: 52 loss = 0.6260780060291288\n",
      "Epoch: 53 loss = 0.6171208000183107\n",
      "Epoch: 54 loss = 0.5983467537164687\n",
      "Epoch: 55 loss = 0.5930517321825028\n",
      "Epoch: 56 loss = 0.5845584195852279\n",
      "Epoch: 57 loss = 0.5914686292409898\n",
      "Epoch: 58 loss = 0.5954415005445479\n",
      "Epoch: 59 loss = 0.6030531591176985\n",
      "Epoch: 60 loss = 0.6358673202991486\n",
      "Epoch: 61 loss = 0.655865741968155\n",
      "Epoch: 62 loss = 0.6714883142709733\n",
      "Epoch: 63 loss = 0.668884397149086\n",
      "Epoch: 64 loss = 0.6712446188926694\n",
      "Epoch: 65 loss = 0.6602614927291871\n",
      "Epoch: 66 loss = 0.633525390625\n",
      "Epoch: 67 loss = 0.6207051926851271\n",
      "Epoch: 68 loss = 0.6137730473279954\n",
      "Epoch: 69 loss = 0.595872416496277\n",
      "Epoch: 70 loss = 0.5807521969079971\n",
      "Epoch: 71 loss = 0.5739116519689558\n",
      "Epoch: 72 loss = 0.5747514617443084\n",
      "Epoch: 73 loss = 0.5708250975608825\n",
      "Epoch: 74 loss = 0.5796931850910186\n",
      "Epoch: 75 loss = 0.5805337983369827\n",
      "Epoch: 76 loss = 0.5598145812749863\n",
      "Epoch: 77 loss = 0.5306990945339203\n",
      "Epoch: 78 loss = 0.5201993238925934\n",
      "Epoch: 79 loss = 0.5056940481066704\n",
      "Epoch: 80 loss = 0.49239810526371014\n",
      "Epoch: 81 loss = 0.46852141946554177\n",
      "Epoch: 82 loss = 0.4627134802937508\n",
      "Epoch: 83 loss = 0.4583314549922943\n",
      "Epoch: 84 loss = 0.45496452808380117\n",
      "Epoch: 85 loss = 0.46141047894954673\n",
      "Epoch: 86 loss = 0.44891760408878323\n",
      "Epoch: 87 loss = 0.4467529034614563\n",
      "Epoch: 88 loss = 0.43654416382312783\n",
      "Epoch: 89 loss = 0.4523864734172822\n",
      "Epoch: 90 loss = 0.4445725482702255\n",
      "Epoch: 91 loss = 0.41390613436698914\n",
      "Epoch: 92 loss = 0.3744538596272468\n",
      "Epoch: 93 loss = 0.34226396173238754\n",
      "Epoch: 94 loss = 0.33137496650218967\n",
      "Epoch: 95 loss = 0.32329832017421717\n",
      "Epoch: 96 loss = 0.31645167440176014\n",
      "Epoch: 97 loss = 0.31428081870079033\n",
      "Epoch: 98 loss = 0.3110221081972121\n",
      "Epoch: 99 loss = 0.3047467228770256\n",
      "Epoch: 100 loss = 0.3023223757743834\n",
      "Epoch: 101 loss = 0.3001421093940736\n",
      "Epoch: 102 loss = 0.2994652569293975\n",
      "Epoch: 103 loss = 0.30049175590276705\n",
      "Epoch: 104 loss = 0.3027286463975907\n",
      "Epoch: 105 loss = 0.30681066036224375\n",
      "Epoch: 106 loss = 0.3099163523316383\n",
      "Epoch: 107 loss = 0.31248852044343955\n",
      "Epoch: 108 loss = 0.3145301085710525\n",
      "Epoch: 109 loss = 0.31597358107566825\n",
      "Epoch: 110 loss = 0.3217340296506882\n",
      "Epoch: 111 loss = 0.32283890157938006\n",
      "Epoch: 112 loss = 0.35823217093944554\n",
      "Epoch: 113 loss = 0.36167546302080156\n",
      "Epoch: 114 loss = 0.39905335277318954\n",
      "Epoch: 115 loss = 0.4433902189135551\n",
      "Epoch: 116 loss = 0.5145394462347029\n",
      "Epoch: 117 loss = 0.489278657436371\n",
      "Epoch: 118 loss = 0.44375962942838665\n",
      "Epoch: 119 loss = 0.46372247099876407\n",
      "Epoch: 120 loss = 0.45421966552734366\n",
      "Epoch: 121 loss = 0.427059975862503\n",
      "Epoch: 122 loss = 0.4068659466505051\n",
      "Epoch: 123 loss = 0.39102058351039887\n",
      "Epoch: 124 loss = 0.3786892199516296\n",
      "Epoch: 125 loss = 0.35237249761819833\n",
      "Epoch: 126 loss = 0.3288210532069205\n",
      "Epoch: 127 loss = 0.31726289719343176\n",
      "Epoch: 128 loss = 0.3237567871809006\n",
      "Epoch: 129 loss = 0.33393854528665545\n",
      "Epoch: 130 loss = 0.3377075436711311\n",
      "Epoch: 131 loss = 0.34019186228513715\n",
      "Epoch: 132 loss = 0.3161665281653404\n",
      "Epoch: 133 loss = 0.29178018540143963\n",
      "Epoch: 134 loss = 0.287532085776329\n",
      "Epoch: 135 loss = 0.26954452514648436\n",
      "Epoch: 136 loss = 0.25985509753227237\n",
      "Epoch: 137 loss = 0.25286252886056904\n",
      "Epoch: 138 loss = 0.25560447931289676\n",
      "Epoch: 139 loss = 0.25694021910429\n",
      "Epoch: 140 loss = 0.27655172169208525\n",
      "Epoch: 141 loss = 0.2764814957976342\n",
      "Epoch: 142 loss = 0.266031889617443\n",
      "Epoch: 143 loss = 0.24446656256914134\n",
      "Epoch: 144 loss = 0.23715999245643618\n",
      "Epoch: 145 loss = 0.24779309719800954\n",
      "Epoch: 146 loss = 0.24279324114322665\n",
      "Epoch: 147 loss = 0.2325715871155262\n",
      "Epoch: 148 loss = 0.21717228442430497\n",
      "Epoch: 149 loss = 0.20519430279731743\n",
      "Epoch: 150 loss = 0.2028977543115615\n",
      "Epoch: 151 loss = 0.20419465899467462\n",
      "Epoch: 152 loss = 0.19112452223896984\n",
      "Epoch: 153 loss = 0.1800903148949147\n",
      "Epoch: 154 loss = 0.17883636012673373\n",
      "Epoch: 155 loss = 0.17654215529561046\n",
      "Epoch: 156 loss = 0.1910623487830162\n",
      "Epoch: 157 loss = 0.18870812475681303\n",
      "Epoch: 158 loss = 0.19250293642282496\n",
      "Epoch: 159 loss = 0.19633460775017736\n",
      "Epoch: 160 loss = 0.21588382497429853\n",
      "Epoch: 161 loss = 0.20881647989153856\n",
      "Epoch: 162 loss = 0.2054765340685844\n",
      "Epoch: 163 loss = 0.2105556519329548\n",
      "Epoch: 164 loss = 0.21337545916438105\n",
      "Epoch: 165 loss = 0.1959347407519817\n",
      "Epoch: 166 loss = 0.19172256290912632\n",
      "Epoch: 167 loss = 0.17945074722170834\n",
      "Epoch: 168 loss = 0.16787297412753102\n",
      "Epoch: 169 loss = 0.15917497470974923\n",
      "Epoch: 170 loss = 0.14147254332900047\n",
      "Epoch: 171 loss = 0.14631459116935727\n",
      "Epoch: 172 loss = 0.13205882452428339\n",
      "Epoch: 173 loss = 0.13129025936126712\n",
      "Epoch: 174 loss = 0.12358337238430976\n",
      "Epoch: 175 loss = 0.11930344261229038\n",
      "Epoch: 176 loss = 0.11564477376639844\n",
      "Epoch: 177 loss = 0.11450276017189025\n",
      "Epoch: 178 loss = 0.11438327722251414\n",
      "Epoch: 179 loss = 0.1186986063420773\n",
      "Epoch: 180 loss = 0.12175734430551524\n",
      "Epoch: 181 loss = 0.12568949341773988\n",
      "Epoch: 182 loss = 0.12010404050350192\n",
      "Epoch: 183 loss = 0.12886824727058407\n",
      "Epoch: 184 loss = 0.12941640123724937\n",
      "Epoch: 185 loss = 0.13998063758015636\n",
      "Epoch: 186 loss = 0.11965811803936956\n",
      "Epoch: 187 loss = 0.14127140581607817\n",
      "Epoch: 188 loss = 0.12894376970827578\n",
      "Epoch: 189 loss = 0.14704152442514898\n",
      "Epoch: 190 loss = 0.1399819855391979\n",
      "Epoch: 191 loss = 0.13772487953305243\n",
      "Epoch: 192 loss = 0.1339593343436718\n",
      "Epoch: 193 loss = 0.14936756625771525\n",
      "Epoch: 194 loss = 0.1288734759390354\n",
      "Epoch: 195 loss = 0.1270537953078747\n",
      "Epoch: 196 loss = 0.13618758365511896\n",
      "Epoch: 197 loss = 0.16820315957069396\n",
      "Epoch: 198 loss = 0.14918887808918957\n",
      "Epoch: 199 loss = 0.16722002670168878\n",
      "Epoch: 200 loss = 0.15183965265750882\n"
     ]
    }
   ],
   "source": [
    "MLP.train(X_val, Y_val, X_val, Y_val)"
   ]
  },
  {
   "cell_type": "code",
   "execution_count": null,
   "metadata": {},
   "outputs": [],
   "source": []
  }
 ],
 "metadata": {
  "kernelspec": {
   "display_name": "Python 3",
   "language": "python",
   "name": "python3"
  },
  "language_info": {
   "codemirror_mode": {
    "name": "ipython",
    "version": 3
   },
   "file_extension": ".py",
   "mimetype": "text/x-python",
   "name": "python",
   "nbconvert_exporter": "python",
   "pygments_lexer": "ipython3",
   "version": "3.5.2"
  }
 },
 "nbformat": 4,
 "nbformat_minor": 2
}
