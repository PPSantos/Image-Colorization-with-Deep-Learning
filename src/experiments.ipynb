{
 "cells": [
  {
   "cell_type": "code",
   "execution_count": 1,
   "metadata": {},
   "outputs": [],
   "source": [
    "import numpy as np\n",
    "import tensorflow as tf\n",
    "\n",
    "from model import Model"
   ]
  },
  {
   "cell_type": "code",
   "execution_count": 2,
   "metadata": {},
   "outputs": [],
   "source": [
    "SEED = 24"
   ]
  },
  {
   "cell_type": "markdown",
   "metadata": {},
   "source": [
    "## Data"
   ]
  },
  {
   "cell_type": "code",
   "execution_count": 3,
   "metadata": {},
   "outputs": [],
   "source": [
    "from helpers import *"
   ]
  },
  {
   "cell_type": "code",
   "execution_count": 4,
   "metadata": {},
   "outputs": [
    {
     "name": "stdout",
     "output_type": "stream",
     "text": [
      "Training data:\n",
      "(45000, 3072)\n",
      "(45000, 10)\n",
      "Validation data:\n",
      "(5000, 3072)\n",
      "(5000, 10)\n",
      "Test data:\n",
      "(10000, 3072)\n",
      "(10000, 10)\n"
     ]
    }
   ],
   "source": [
    "X_train, Y_train, X_val, Y_val, X_test, Y_test = load_CIFAR()\n",
    "\n",
    "print('Training data:')\n",
    "print(X_train.shape)\n",
    "print(Y_train.shape)\n",
    "\n",
    "print('Validation data:')\n",
    "print(X_val.shape)\n",
    "print(Y_val.shape)\n",
    "\n",
    "print('Test data:')\n",
    "print(X_test.shape)\n",
    "print(Y_test.shape)"
   ]
  },
  {
   "cell_type": "markdown",
   "metadata": {},
   "source": [
    "## Model"
   ]
  },
  {
   "cell_type": "code",
   "execution_count": 5,
   "metadata": {},
   "outputs": [],
   "source": [
    "np.random.seed(SEED)\n",
    "tf.random.set_random_seed(SEED)"
   ]
  },
  {
   "cell_type": "code",
   "execution_count": 6,
   "metadata": {},
   "outputs": [],
   "source": [
    "MLP = Model()"
   ]
  },
  {
   "cell_type": "code",
   "execution_count": 7,
   "metadata": {},
   "outputs": [
    {
     "name": "stdout",
     "output_type": "stream",
     "text": [
      "WARNING:tensorflow:From /usr/local/lib/python3.5/dist-packages/tensorflow/python/ops/resource_variable_ops.py:435: colocate_with (from tensorflow.python.framework.ops) is deprecated and will be removed in a future version.\n",
      "Instructions for updating:\n",
      "Colocations handled automatically by placer.\n"
     ]
    }
   ],
   "source": [
    "MLP.compile()"
   ]
  },
  {
   "cell_type": "code",
   "execution_count": 8,
   "metadata": {},
   "outputs": [
    {
     "name": "stdout",
     "output_type": "stream",
     "text": [
      "Epoch: 1 cost = 5.883139362335205\n",
      "Epoch: 2 cost = 2.9249312210083005\n",
      "Epoch: 3 cost = 1.9040886211395263\n",
      "Epoch: 4 cost = 1.6967637228965764\n",
      "Epoch: 5 cost = 1.593482437133789\n",
      "Epoch: 6 cost = 1.5459993004798889\n",
      "Epoch: 7 cost = 1.4807495617866517\n",
      "Epoch: 8 cost = 1.4195309233665465\n",
      "Epoch: 9 cost = 1.3946440052986147\n",
      "Epoch: 10 cost = 1.3345670723915097\n",
      "Epoch: 11 cost = 1.303095042705536\n",
      "Epoch: 12 cost = 1.2893995928764341\n",
      "Epoch: 13 cost = 1.2815663623809812\n",
      "Epoch: 14 cost = 1.2669523227214812\n",
      "Epoch: 15 cost = 1.2238412451744076\n",
      "Epoch: 16 cost = 1.209727274179459\n",
      "Epoch: 17 cost = 1.226328991651535\n",
      "Epoch: 18 cost = 1.2013423156738283\n",
      "Epoch: 19 cost = 1.209093271493912\n",
      "Epoch: 20 cost = 1.2118854534626011\n",
      "Epoch: 21 cost = 1.2360085082054142\n",
      "Epoch: 22 cost = 1.224648485183716\n",
      "Epoch: 23 cost = 1.0857634127140046\n",
      "Epoch: 24 cost = 1.0514627373218537\n",
      "Epoch: 25 cost = 1.0283015727996827\n",
      "Epoch: 26 cost = 1.0547333788871764\n",
      "Epoch: 27 cost = 1.131236313581467\n",
      "Epoch: 28 cost = 1.0723403930664062\n",
      "Epoch: 29 cost = 1.1157542431354526\n",
      "Epoch: 30 cost = 1.0746205520629881\n",
      "Epoch: 31 cost = 1.1250848019123074\n",
      "Epoch: 32 cost = 1.1481551682949067\n",
      "Epoch: 33 cost = 1.1146815872192382\n",
      "Epoch: 34 cost = 1.1133554601669313\n",
      "Epoch: 35 cost = 1.0582321846485137\n",
      "Epoch: 36 cost = 1.0351095640659334\n",
      "Epoch: 37 cost = 1.095080909729004\n",
      "Epoch: 38 cost = 1.1507948660850522\n",
      "Epoch: 39 cost = 1.180672498941422\n",
      "Epoch: 40 cost = 1.153678252696991\n",
      "Epoch: 41 cost = 1.0665869975090028\n",
      "Epoch: 42 cost = 1.1228678512573242\n",
      "Epoch: 43 cost = 1.0206208038330078\n",
      "Epoch: 44 cost = 1.0170263481140138\n",
      "Epoch: 45 cost = 0.9299888134002686\n",
      "Epoch: 46 cost = 0.9187889945507048\n",
      "Epoch: 47 cost = 0.8887221884727479\n",
      "Epoch: 48 cost = 0.9234812164306638\n",
      "Epoch: 49 cost = 1.0197269916534422\n",
      "Epoch: 50 cost = 1.0156778335571288\n",
      "Epoch: 51 cost = 0.8638424938917162\n",
      "Epoch: 52 cost = 0.8807862162590026\n",
      "Epoch: 53 cost = 0.8910790956020356\n",
      "Epoch: 54 cost = 0.9795843672752381\n",
      "Epoch: 55 cost = 0.9313431060314179\n",
      "Epoch: 56 cost = 0.9952413165569304\n",
      "Epoch: 57 cost = 0.9349545478820802\n",
      "Epoch: 58 cost = 0.9432447421550748\n",
      "Epoch: 59 cost = 0.8900726759433746\n",
      "Epoch: 60 cost = 0.8563015913963314\n",
      "Epoch: 61 cost = 0.8775435698032379\n",
      "Epoch: 62 cost = 0.849323678612709\n",
      "Epoch: 63 cost = 0.95126647233963\n",
      "Epoch: 64 cost = 0.9632848775386811\n",
      "Epoch: 65 cost = 0.9253796297311785\n",
      "Epoch: 66 cost = 0.9318861293792723\n",
      "Epoch: 67 cost = 0.934160813093185\n",
      "Epoch: 68 cost = 0.8408719372749327\n",
      "Epoch: 69 cost = 0.8606926834583284\n",
      "Epoch: 70 cost = 0.8378597813844681\n",
      "Epoch: 71 cost = 0.8209329450130464\n",
      "Epoch: 72 cost = 0.9474944031238554\n",
      "Epoch: 73 cost = 0.85459243953228\n",
      "Epoch: 74 cost = 0.9037555140256882\n",
      "Epoch: 75 cost = 0.8029365319013596\n",
      "Epoch: 76 cost = 0.820489249229431\n",
      "Epoch: 77 cost = 0.8820011627674105\n",
      "Epoch: 78 cost = 0.9720002102851868\n",
      "Epoch: 79 cost = 0.9666856640577315\n",
      "Epoch: 80 cost = 0.8546232950687409\n",
      "Epoch: 81 cost = 0.8603357911109926\n",
      "Epoch: 82 cost = 0.8934741443395614\n",
      "Epoch: 83 cost = 0.8907460629940033\n",
      "Epoch: 84 cost = 0.9478078973293304\n",
      "Epoch: 85 cost = 0.8628974521160124\n",
      "Epoch: 86 cost = 0.9053274607658386\n",
      "Epoch: 87 cost = 0.88586438536644\n",
      "Epoch: 88 cost = 0.925487097501755\n",
      "Epoch: 89 cost = 0.8933660376071932\n",
      "Epoch: 90 cost = 0.8888009583950042\n",
      "Epoch: 91 cost = 1.035852297544479\n",
      "Epoch: 92 cost = 0.9419962704181671\n",
      "Epoch: 93 cost = 0.9217257797718047\n",
      "Epoch: 94 cost = 0.8156331855058669\n",
      "Epoch: 95 cost = 0.956776441335678\n",
      "Epoch: 96 cost = 0.7809749388694761\n",
      "Epoch: 97 cost = 0.8125371241569518\n",
      "Epoch: 98 cost = 0.7056672102212905\n",
      "Epoch: 99 cost = 0.7099890106916427\n",
      "Epoch: 100 cost = 0.7321636784076692\n",
      "Epoch: 101 cost = 0.8043990886211396\n",
      "Epoch: 102 cost = 0.7007053059339522\n",
      "Epoch: 103 cost = 0.6791955697536467\n",
      "Epoch: 104 cost = 0.6156960666179657\n",
      "Epoch: 105 cost = 0.6051654028892516\n",
      "Epoch: 106 cost = 0.593186631798744\n",
      "Epoch: 107 cost = 0.6407489120960237\n",
      "Epoch: 108 cost = 0.621400995850563\n",
      "Epoch: 109 cost = 0.6605187559127809\n",
      "Epoch: 110 cost = 0.6995235073566436\n",
      "Epoch: 111 cost = 0.7022138595581054\n",
      "Epoch: 112 cost = 0.7036797660589221\n",
      "Epoch: 113 cost = 0.7231267011165619\n",
      "Epoch: 114 cost = 0.6794053316116335\n",
      "Epoch: 115 cost = 0.7243431043624878\n",
      "Epoch: 116 cost = 0.7935037457942961\n",
      "Epoch: 117 cost = 0.6307136005163195\n",
      "Epoch: 118 cost = 0.670444259941578\n",
      "Epoch: 119 cost = 0.7003948485851289\n",
      "Epoch: 120 cost = 0.641888222694397\n",
      "Epoch: 121 cost = 0.7204439353942871\n",
      "Epoch: 122 cost = 0.712574241757393\n",
      "Epoch: 123 cost = 0.8637587487697601\n",
      "Epoch: 124 cost = 0.9689606297016143\n",
      "Epoch: 125 cost = 0.8451901799440384\n",
      "Epoch: 126 cost = 0.727094851732254\n",
      "Epoch: 127 cost = 0.7271878027915955\n",
      "Epoch: 128 cost = 0.6969978374242783\n",
      "Epoch: 129 cost = 0.7072738015651704\n",
      "Epoch: 130 cost = 0.5907105314731598\n",
      "Epoch: 131 cost = 0.6093042701482774\n",
      "Epoch: 132 cost = 0.6259785449504852\n",
      "Epoch: 133 cost = 0.586486724615097\n",
      "Epoch: 134 cost = 0.6390577203035355\n",
      "Epoch: 135 cost = 0.6140425789356233\n",
      "Epoch: 136 cost = 0.6402902907133101\n",
      "Epoch: 137 cost = 0.587887324988842\n",
      "Epoch: 138 cost = 0.7075563409924507\n",
      "Epoch: 139 cost = 0.6652728968858719\n",
      "Epoch: 140 cost = 0.6981104558706285\n",
      "Epoch: 141 cost = 0.6635966455936434\n",
      "Epoch: 142 cost = 0.6150632917881012\n",
      "Epoch: 143 cost = 0.6755136370658874\n",
      "Epoch: 144 cost = 0.7106214791536333\n",
      "Epoch: 145 cost = 0.7052436131238937\n",
      "Epoch: 146 cost = 0.6385052853822708\n",
      "Epoch: 147 cost = 0.6373038506507874\n",
      "Epoch: 148 cost = 0.6593339312076569\n",
      "Epoch: 149 cost = 0.6692223072052003\n",
      "Epoch: 150 cost = 0.649494971036911\n",
      "Epoch: 151 cost = 0.7208677726984024\n",
      "Epoch: 152 cost = 0.7391641217470168\n",
      "Epoch: 153 cost = 0.8168183511495588\n",
      "Epoch: 154 cost = 0.6979889470338825\n",
      "Epoch: 155 cost = 0.643193809390068\n",
      "Epoch: 156 cost = 0.6255287113785745\n",
      "Epoch: 157 cost = 0.669499346613884\n",
      "Epoch: 158 cost = 0.7391017442941665\n",
      "Epoch: 159 cost = 0.7232520741224291\n",
      "Epoch: 160 cost = 0.6543503850698472\n",
      "Epoch: 161 cost = 0.6059645438194274\n",
      "Epoch: 162 cost = 0.6718313252925869\n",
      "Epoch: 163 cost = 0.7244433361291885\n",
      "Epoch: 164 cost = 0.6908827936649321\n",
      "Epoch: 165 cost = 0.7181416121125221\n",
      "Epoch: 166 cost = 0.6289172372221946\n",
      "Epoch: 167 cost = 0.7871629625558852\n",
      "Epoch: 168 cost = 0.8499634462594986\n",
      "Epoch: 169 cost = 0.7326409888267518\n",
      "Epoch: 170 cost = 0.7611622178554535\n",
      "Epoch: 171 cost = 0.7638643890619277\n",
      "Epoch: 172 cost = 0.6583437794446945\n",
      "Epoch: 173 cost = 0.591017878651619\n",
      "Epoch: 174 cost = 0.6107382905483245\n",
      "Epoch: 175 cost = 0.6463479068875315\n",
      "Epoch: 176 cost = 0.6267610156536101\n",
      "Epoch: 177 cost = 0.6692318224906924\n",
      "Epoch: 178 cost = 0.5979054898023606\n",
      "Epoch: 179 cost = 0.6069206130504607\n",
      "Epoch: 180 cost = 0.5927839601039885\n",
      "Epoch: 181 cost = 0.5912687849998475\n",
      "Epoch: 182 cost = 0.6030920219421387\n",
      "Epoch: 183 cost = 0.5201951980590822\n",
      "Epoch: 184 cost = 0.5627510181069375\n",
      "Epoch: 185 cost = 0.5792220157384872\n",
      "Epoch: 186 cost = 0.637727108001709\n",
      "Epoch: 187 cost = 0.6141139972209931\n",
      "Epoch: 188 cost = 0.5525073781609535\n",
      "Epoch: 189 cost = 0.5027265232801437\n",
      "Epoch: 190 cost = 0.43722387224435805\n",
      "Epoch: 191 cost = 0.5183765849471093\n",
      "Epoch: 192 cost = 0.5570199596881866\n",
      "Epoch: 193 cost = 0.5698349213600156\n",
      "Epoch: 194 cost = 0.5607592672109603\n",
      "Epoch: 195 cost = 0.5217961880564691\n",
      "Epoch: 196 cost = 0.5633312058448793\n",
      "Epoch: 197 cost = 0.5846325039863588\n",
      "Epoch: 198 cost = 0.4692614021897316\n",
      "Epoch: 199 cost = 0.5198409798741341\n",
      "Epoch: 200 cost = 0.44988199174404153\n"
     ]
    }
   ],
   "source": [
    "MLP.train(X_val, Y_val)"
   ]
  },
  {
   "cell_type": "raw",
   "metadata": {},
   "source": []
  },
  {
   "cell_type": "code",
   "execution_count": null,
   "metadata": {},
   "outputs": [],
   "source": []
  }
 ],
 "metadata": {
  "kernelspec": {
   "display_name": "Python 3",
   "language": "python",
   "name": "python3"
  },
  "language_info": {
   "codemirror_mode": {
    "name": "ipython",
    "version": 3
   },
   "file_extension": ".py",
   "mimetype": "text/x-python",
   "name": "python",
   "nbconvert_exporter": "python",
   "pygments_lexer": "ipython3",
   "version": "3.5.2"
  }
 },
 "nbformat": 4,
 "nbformat_minor": 2
}
